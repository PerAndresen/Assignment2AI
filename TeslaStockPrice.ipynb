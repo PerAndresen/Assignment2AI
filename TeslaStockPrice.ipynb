{
 "cells": [
  {
   "cell_type": "code",
   "execution_count": 134,
   "id": "df72417c",
   "metadata": {},
   "outputs": [
    {
     "data": {
      "text/plain": [
       "(1258, 7)"
      ]
     },
     "execution_count": 134,
     "metadata": {},
     "output_type": "execute_result"
    }
   ],
   "source": [
    "import pandas as pd\n",
    "import numpy as np \n",
    "import matplotlib.pyplot as plt\n",
    "\n",
    "from sklearn import metrics\n",
    "from sklearn import preprocessing\n",
    "from sklearn.linear_model import LinearRegression\n",
    "from sklearn.model_selection import train_test_split\n",
    "from sklearn.metrics import accuracy_score\n",
    "\n",
    "tesla_data = pd.read_csv('TSLA.csv')\n",
    "tesla_data.shape\n",
    "#shows amounts of rows and colums"
   ]
  },
  {
   "cell_type": "code",
   "execution_count": 135,
   "id": "6156d6d0",
   "metadata": {
    "scrolled": true
   },
   "outputs": [
    {
     "data": {
      "text/html": [
       "<div>\n",
       "<style scoped>\n",
       "    .dataframe tbody tr th:only-of-type {\n",
       "        vertical-align: middle;\n",
       "    }\n",
       "\n",
       "    .dataframe tbody tr th {\n",
       "        vertical-align: top;\n",
       "    }\n",
       "\n",
       "    .dataframe thead th {\n",
       "        text-align: right;\n",
       "    }\n",
       "</style>\n",
       "<table border=\"1\" class=\"dataframe\">\n",
       "  <thead>\n",
       "    <tr style=\"text-align: right;\">\n",
       "      <th></th>\n",
       "      <th>Open</th>\n",
       "      <th>High</th>\n",
       "      <th>Low</th>\n",
       "      <th>Close</th>\n",
       "      <th>Adj Close</th>\n",
       "      <th>Volume</th>\n",
       "    </tr>\n",
       "  </thead>\n",
       "  <tbody>\n",
       "    <tr>\n",
       "      <th>count</th>\n",
       "      <td>1258.000000</td>\n",
       "      <td>1258.000000</td>\n",
       "      <td>1258.000000</td>\n",
       "      <td>1258.000000</td>\n",
       "      <td>1258.000000</td>\n",
       "      <td>1.258000e+03</td>\n",
       "    </tr>\n",
       "    <tr>\n",
       "      <th>mean</th>\n",
       "      <td>211.278026</td>\n",
       "      <td>215.677649</td>\n",
       "      <td>206.640361</td>\n",
       "      <td>211.476779</td>\n",
       "      <td>211.476779</td>\n",
       "      <td>4.448228e+07</td>\n",
       "    </tr>\n",
       "    <tr>\n",
       "      <th>std</th>\n",
       "      <td>251.993545</td>\n",
       "      <td>256.900859</td>\n",
       "      <td>246.754253</td>\n",
       "      <td>252.257149</td>\n",
       "      <td>252.257149</td>\n",
       "      <td>3.027844e+07</td>\n",
       "    </tr>\n",
       "    <tr>\n",
       "      <th>min</th>\n",
       "      <td>36.220001</td>\n",
       "      <td>36.945999</td>\n",
       "      <td>35.397999</td>\n",
       "      <td>35.793999</td>\n",
       "      <td>35.793999</td>\n",
       "      <td>9.800600e+06</td>\n",
       "    </tr>\n",
       "    <tr>\n",
       "      <th>25%</th>\n",
       "      <td>57.447501</td>\n",
       "      <td>58.895501</td>\n",
       "      <td>56.475000</td>\n",
       "      <td>57.803000</td>\n",
       "      <td>57.803000</td>\n",
       "      <td>2.476140e+07</td>\n",
       "    </tr>\n",
       "    <tr>\n",
       "      <th>50%</th>\n",
       "      <td>68.214000</td>\n",
       "      <td>69.441001</td>\n",
       "      <td>67.023999</td>\n",
       "      <td>68.227001</td>\n",
       "      <td>68.227001</td>\n",
       "      <td>3.496350e+07</td>\n",
       "    </tr>\n",
       "    <tr>\n",
       "      <th>75%</th>\n",
       "      <td>298.901008</td>\n",
       "      <td>306.807007</td>\n",
       "      <td>292.149994</td>\n",
       "      <td>299.037986</td>\n",
       "      <td>299.037986</td>\n",
       "      <td>5.211238e+07</td>\n",
       "    </tr>\n",
       "    <tr>\n",
       "      <th>max</th>\n",
       "      <td>895.500000</td>\n",
       "      <td>910.000000</td>\n",
       "      <td>890.960022</td>\n",
       "      <td>909.679993</td>\n",
       "      <td>909.679993</td>\n",
       "      <td>3.046940e+08</td>\n",
       "    </tr>\n",
       "  </tbody>\n",
       "</table>\n",
       "</div>"
      ],
      "text/plain": [
       "              Open         High          Low        Close    Adj Close  \\\n",
       "count  1258.000000  1258.000000  1258.000000  1258.000000  1258.000000   \n",
       "mean    211.278026   215.677649   206.640361   211.476779   211.476779   \n",
       "std     251.993545   256.900859   246.754253   252.257149   252.257149   \n",
       "min      36.220001    36.945999    35.397999    35.793999    35.793999   \n",
       "25%      57.447501    58.895501    56.475000    57.803000    57.803000   \n",
       "50%      68.214000    69.441001    67.023999    68.227001    68.227001   \n",
       "75%     298.901008   306.807007   292.149994   299.037986   299.037986   \n",
       "max     895.500000   910.000000   890.960022   909.679993   909.679993   \n",
       "\n",
       "             Volume  \n",
       "count  1.258000e+03  \n",
       "mean   4.448228e+07  \n",
       "std    3.027844e+07  \n",
       "min    9.800600e+06  \n",
       "25%    2.476140e+07  \n",
       "50%    3.496350e+07  \n",
       "75%    5.211238e+07  \n",
       "max    3.046940e+08  "
      ]
     },
     "execution_count": 135,
     "metadata": {},
     "output_type": "execute_result"
    }
   ],
   "source": [
    "tesla_data.describe()"
   ]
  },
  {
   "cell_type": "code",
   "execution_count": 136,
   "id": "319b2d65",
   "metadata": {},
   "outputs": [
    {
     "data": {
      "text/plain": [
       "array([['2016-10-25', 40.580002, 40.938, ..., 40.467999, 40.467999,\n",
       "        12225000],\n",
       "       ['2016-10-26', 40.200001, 40.638, ..., 40.448002, 40.448002,\n",
       "        28164000],\n",
       "       ['2016-10-27', 42.268002, 42.740002, ..., 40.801998, 40.801998,\n",
       "        65468500],\n",
       "       ...,\n",
       "       ['2021-10-20', 865.349976, 869.48999, ..., 865.799988, 865.799988,\n",
       "        14032100],\n",
       "       ['2021-10-21', 856.0, 900.0, ..., 894.0, 894.0, 31481500],\n",
       "       ['2021-10-22', 895.5, 910.0, ..., 909.679993, 909.679993,\n",
       "        22836800]], dtype=object)"
      ]
     },
     "execution_count": 136,
     "metadata": {},
     "output_type": "execute_result"
    }
   ],
   "source": [
    "tesla_data.values"
   ]
  },
  {
   "cell_type": "code",
   "execution_count": 137,
   "id": "e4f78179",
   "metadata": {
    "scrolled": true
   },
   "outputs": [
    {
     "data": {
      "text/plain": [
       "<AxesSubplot:xlabel='Date', ylabel='Close'>"
      ]
     },
     "execution_count": 137,
     "metadata": {},
     "output_type": "execute_result"
    },
    {
     "data": {
      "image/png": "[encoded data removed]",
      "text/plain": [
       "<Figure size 432x288 with 1 Axes>"
      ]
     },
     "metadata": {
      "needs_background": "light"
     },
     "output_type": "display_data"
    }
   ],
   "source": [
    "#Definerer input og output\n",
    "tesla_data['Date'] = pd.to_datetime(tesla_data['Date'])\n",
    "tesla_data['date_delta'] = (tesla_data['Date'] - tesla_data['Date'].min())  / np.timedelta64(1,'D')\n",
    "X = pd.DataFrame(tesla_data['date_delta'])\n",
    "y = pd.DataFrame(tesla_data['Close'])\n",
    "\n",
    "tesla_data.plot.scatter(x = 'Date', y = 'Close')"
   ]
  },
  {
   "cell_type": "code",
   "execution_count": 138,
   "id": "8530d126",
   "metadata": {},
   "outputs": [
    {
     "data": {
      "image/png": "[encoded data removed]",
      "text/plain": [
       "<Figure size 432x288 with 1 Axes>"
      ]
     },
     "metadata": {
      "needs_background": "light"
     },
     "output_type": "display_data"
    },
    {
     "name": "stdout",
     "output_type": "stream",
     "text": [
      "MSE = 24898.246354922157\n"
     ]
    }
   ],
   "source": [
    "X_train, X_test, y_train, y_test = train_test_split(X, y, test_size = 0.33, random_state = 42)\n",
    "linear_regressor = LinearRegression()\n",
    "linear_regressor.fit(X_train, y_train)\n",
    "close_pred = linear_regressor.predict(X_train)\n",
    "plt.scatter(X_train, y_train)\n",
    "plt.plot(X_train, close_pred, color='red')\n",
    "plt.show()\n",
    "print( \"MSE = \"+str(metrics.mean_squared_error(y_train,close_pred)))"
   ]
  },
  {
   "cell_type": "code",
   "execution_count": 139,
   "id": "3af6b233",
   "metadata": {},
   "outputs": [
    {
     "data": {
      "image/png": "[encoded data removed]",
      "text/plain": [
       "<Figure size 432x288 with 1 Axes>"
      ]
     },
     "metadata": {
      "needs_background": "light"
     },
     "output_type": "display_data"
    },
    {
     "name": "stdout",
     "output_type": "stream",
     "text": [
      "MSE = 23192.104460662515\n"
     ]
    }
   ],
   "source": [
    "close_pred = linear_regressor.predict(X_test)\n",
    "plt.scatter(X_test,y_test)\n",
    "plt.plot(X_test, close_pred, color='red')\n",
    "plt.show()\n",
    "print( \"MSE = \"+str(metrics.mean_squared_error(y_test,close_pred)))"
   ]
  },
  {
   "cell_type": "code",
   "execution_count": 146,
   "id": "25c3a897",
   "metadata": {},
   "outputs": [
    {
     "name": "stdout",
     "output_type": "stream",
     "text": [
      "581.8717507605738\n",
      "Actual price: 909\n"
     ]
    }
   ],
   "source": [
    "predictions = linear_regressor.predict(np.array(1900).reshape(1,-1))\n",
    "\n",
    "print(predictions[0][0])\n",
    "print(\"Actual price: 909\")"
   ]
  },
  {
   "cell_type": "code",
   "execution_count": 149,
   "id": "c657e716",
   "metadata": {},
   "outputs": [
    {
     "data": {
      "text/plain": [
       "array([[431.74134495]])"
      ]
     },
     "execution_count": 149,
     "metadata": {},
     "output_type": "execute_result"
    }
   ],
   "source": [
    "predictions = linear_regressor.predict(np.array(1500).reshape(1,-1))\n",
    "predictions"
   ]
  }
 ],
 "metadata": {
  "kernelspec": {
   "display_name": "Python 3",
   "language": "python",
   "name": "python3"
  },
  "language_info": {
   "codemirror_mode": {
    "name": "ipython",
    "version": 3
   },
   "file_extension": ".py",
   "mimetype": "text/x-python",
   "name": "python",
   "nbconvert_exporter": "python",
   "pygments_lexer": "ipython3",
   "version": "3.8.8"
  }
 },
 "nbformat": 4,
 "nbformat_minor": 5
}
